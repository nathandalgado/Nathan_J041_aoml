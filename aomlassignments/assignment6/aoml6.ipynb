{
  "nbformat": 4,
  "nbformat_minor": 0,
  "metadata": {
    "colab": {
      "provenance": [],
      "gpuType": "T4"
    },
    "kernelspec": {
      "name": "python3",
      "display_name": "Python 3"
    },
    "language_info": {
      "name": "python"
    },
    "accelerator": "GPU"
  },
  "cells": [
    {
      "cell_type": "code",
      "source": [
        "import pandas as pd\n",
        "import numpy as np\n",
        "from sklearn.svm import SVC\n",
        "from sklearn.model_selection import GridSearchCV, train_test_split\n",
        "from sklearn.preprocessing import StandardScaler\n",
        "from sklearn.metrics import accuracy_score"
      ],
      "metadata": {
        "id": "2UDOwxsKT7QF"
      },
      "execution_count": 1,
      "outputs": []
    },
    {
      "cell_type": "code",
      "source": [
        "train_data = pd.read_csv('fashion-mnist_train.csv')\n",
        "test_data = pd.read_csv('fashion-mnist_test.csv')\n",
        "\n",
        "train_data = train_data.sample(n=5000, random_state=42)\n",
        "\n",
        "X_train, y_train = train_data.iloc[:, 1:].values, train_data.iloc[:, 0].values\n",
        "X_test, y_test = test_data.iloc[:, 1:].values, test_data.iloc[:, 0].values\n",
        "\n",
        "scaler = StandardScaler()\n",
        "X_train = scaler.fit_transform(X_train)\n",
        "X_test = scaler.transform(X_test)\n",
        "\n",
        "linear_svm = SVC(kernel='linear', C=1)\n",
        "linear_svm.fit(X_train, y_train)\n",
        "linear_acc = accuracy_score(y_test, linear_svm.predict(X_test))\n",
        "print(f'Linear SVM Accuracy: {linear_acc:.4f}')\n",
        "\n",
        "poly_svm = GridSearchCV(SVC(kernel='poly'), {'C': [1, 10], 'degree': [2, 3]}, cv=2, n_jobs=-1)\n",
        "poly_svm.fit(X_train, y_train)\n",
        "poly_acc = accuracy_score(y_test, poly_svm.best_estimator_.predict(X_test))\n",
        "print(f'Polynomial SVM Accuracy: {poly_acc:.4f}')\n",
        "\n",
        "rbf_svm = GridSearchCV(SVC(kernel='rbf'), {'C': [1, 10], 'gamma': [0.01, 'scale']}, cv=2, n_jobs=-1)\n",
        "rbf_svm.fit(X_train, y_train)\n",
        "rbf_acc = accuracy_score(y_test, rbf_svm.best_estimator_.predict(X_test))\n",
        "print(f'RBF SVM Accuracy: {rbf_acc:.4f}')\n"
      ],
      "metadata": {
        "colab": {
          "base_uri": "https://localhost:8080/"
        },
        "id": "flyu5wN9UAbS",
        "outputId": "4b9d7799-e7fe-4361-a98b-6b3223e51568"
      },
      "execution_count": 2,
      "outputs": [
        {
          "output_type": "stream",
          "name": "stdout",
          "text": [
            "Linear SVM Accuracy: 0.8036\n",
            "Polynomial SVM Accuracy: 0.8603\n",
            "RBF SVM Accuracy: 0.8609\n"
          ]
        }
      ]
    },
    {
      "cell_type": "code",
      "source": [
        "train_data = pd.read_csv('fashion-mnist_train.csv')\n",
        "test_data = pd.read_csv('fashion-mnist_test.csv')\n",
        "\n",
        "train_data = train_data.sample(n=10000, random_state=42)\n",
        "\n",
        "X_train, y_train = train_data.iloc[:, 1:].values, train_data.iloc[:, 0].values\n",
        "X_test, y_test = test_data.iloc[:, 1:].values, test_data.iloc[:, 0].values\n",
        "\n",
        "scaler = StandardScaler()\n",
        "X_train = scaler.fit_transform(X_train)\n",
        "X_test = scaler.transform(X_test)\n",
        "\n",
        "linear_params = {'C': [0.1, 1, 10, 100]}\n",
        "linear_svm = GridSearchCV(SVC(kernel='linear'), linear_params, cv=3, scoring='accuracy', n_jobs=-1)\n",
        "linear_svm.fit(X_train, y_train)\n",
        "best_linear_C = linear_svm.best_params_['C']\n",
        "print(f'Best C for linear kernel: {best_linear_C}')\n",
        "\n",
        "poly_params = {'C': [0.1, 1, 10], 'degree': [2, 3, 4]}\n",
        "poly_svm = GridSearchCV(SVC(kernel='poly'), poly_params, cv=3, scoring='accuracy', n_jobs=-1)\n",
        "poly_svm.fit(X_train, y_train)\n",
        "best_poly_C = poly_svm.best_params_['C']\n",
        "best_poly_degree = poly_svm.best_params_['degree']\n",
        "print(f'Best C for polynomial kernel: {best_poly_C}, Best degree: {best_poly_degree}')\n",
        "\n",
        "rbf_params = {'C': [0.1, 1, 10], 'gamma': ['scale', 'auto', 0.001, 0.01, 0.1]}\n",
        "rbf_svm = GridSearchCV(SVC(kernel='rbf'), rbf_params, cv=3, scoring='accuracy', n_jobs=-1)\n",
        "rbf_svm.fit(X_train, y_train)\n",
        "best_rbf_C = rbf_svm.best_params_['C']\n",
        "best_rbf_gamma = rbf_svm.best_params_['gamma']\n",
        "print(f'Best C for RBF kernel: {best_rbf_C}, Best gamma: {best_rbf_gamma}')\n",
        "\n",
        "best_linear_model = SVC(kernel='linear', C=best_linear_C).fit(X_train, y_train)\n",
        "best_poly_model = SVC(kernel='poly', C=best_poly_C, degree=best_poly_degree).fit(X_train, y_train)\n",
        "best_rbf_model = SVC(kernel='rbf', C=best_rbf_C, gamma=best_rbf_gamma).fit(X_train, y_train)\n",
        "\n",
        "y_pred_linear = best_linear_model.predict(X_test)\n",
        "y_pred_poly = best_poly_model.predict(X_test)\n",
        "y_pred_rbf = best_rbf_model.predict(X_test)\n",
        "\n",
        "print(f'Linear SVM Accuracy: {accuracy_score(y_test, y_pred_linear):.4f}')\n",
        "print(f'Polynomial SVM Accuracy: {accuracy_score(y_test, y_pred_poly):.4f}')\n",
        "print(f'RBF SVM Accuracy: {accuracy_score(y_test, y_pred_rbf):.4f}')\n"
      ],
      "metadata": {
        "colab": {
          "base_uri": "https://localhost:8080/"
        },
        "id": "ozgiokAWULZ4",
        "outputId": "e54d41af-b87d-4d11-c0e0-7f111d84cc20"
      },
      "execution_count": 3,
      "outputs": [
        {
          "output_type": "stream",
          "name": "stdout",
          "text": [
            "Best C for linear kernel: 0.1\n",
            "Best C for polynomial kernel: 10, Best degree: 2\n",
            "Best C for RBF kernel: 10, Best gamma: 0.001\n",
            "Linear SVM Accuracy: 0.8280\n",
            "Polynomial SVM Accuracy: 0.8727\n",
            "RBF SVM Accuracy: 0.8705\n"
          ]
        }
      ]
    },
    {
      "cell_type": "code",
      "source": [],
      "metadata": {
        "id": "HaB3UydHU8ch"
      },
      "execution_count": null,
      "outputs": []
    }
  ]
}