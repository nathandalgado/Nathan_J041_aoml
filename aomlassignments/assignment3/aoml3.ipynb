{
  "cells": [
    {
      "cell_type": "code",
      "execution_count": 2,
      "metadata": {
        "id": "wJzp5p9owRDh"
      },
      "outputs": [],
      "source": [
        "import pandas as pd\n",
        "import numpy as np\n",
        "import matplotlib.pyplot as plt\n",
        "import seaborn as sns\n",
        "from sklearn.model_selection import train_test_split, cross_val_score\n",
        "from sklearn.preprocessing import OrdinalEncoder, StandardScaler, PolynomialFeatures\n",
        "from sklearn.linear_model import LinearRegression\n",
        "from sklearn.metrics import mean_squared_error\n",
        "\n",
        "df = pd.read_csv('gemstone.csv')\n",
        "df=df.drop(columns=['id'])\n",
        "\n",
        "ordinal_mapping = {\n",
        "    'cut': ['Fair', 'Good', 'Very Good', 'Premium', 'Ideal'],\n",
        "    'color': ['D', 'E', 'F', 'G', 'H', 'I', 'J'],\n",
        "    'clarity': ['I1', 'SI2', 'SI1', 'VS2', 'VS1', 'VVS2', 'VVS1', 'IF']\n",
        "}\n",
        "encoder = OrdinalEncoder(categories=[ordinal_mapping['cut'],\n",
        "                         ordinal_mapping['color'],\n",
        "                         ordinal_mapping['clarity']], dtype=int)\n",
        "df[['cut', 'color', 'clarity']] = encoder.fit_transform(df[['cut', 'color', 'clarity']])\n",
        "\n",
        "original_features = ['carat', 'cut', 'color', 'clarity', 'depth', 'table', 'x', 'y', 'z']\n",
        "X = df[original_features]\n",
        "y = np.log(df['price'])\n",
        "\n",
        "X_train, X_test, y_train, y_test = train_test_split(X, y, test_size=0.2, random_state=42)\n",
        "\n",
        "results = []\n",
        "current_features = original_features.copy()\n",
        "current_X_train = X_train.copy()\n",
        "current_X_test = X_test.copy()"
      ]
    },
    {
      "cell_type": "code",
      "execution_count": 3,
      "metadata": {
        "colab": {
          "base_uri": "https://localhost:8080/"
        },
        "id": "4AJ04HtBwRDl",
        "outputId": "21cb2559-32ab-4505-f5f9-37c16d0ccd2d"
      },
      "outputs": [
        {
          "output_type": "stream",
          "name": "stdout",
          "text": [
            "Baseline RMSE: 0.1395\n"
          ]
        }
      ],
      "source": [
        "\n",
        "scaler = StandardScaler().fit(current_X_train)\n",
        "X_scaled = scaler.transform(current_X_train)\n",
        "\n",
        "model = LinearRegression()\n",
        "baseline_rmse = -cross_val_score(model, X_scaled, y_train,\n",
        "                               cv=5, scoring='neg_root_mean_squared_error').mean()\n",
        "results.append(('Baseline', baseline_rmse, current_features.copy()))\n",
        "\n",
        "print(f\"Baseline RMSE: {baseline_rmse:.4f}\")"
      ]
    },
    {
      "cell_type": "code",
      "execution_count": 4,
      "metadata": {
        "colab": {
          "base_uri": "https://localhost:8080/"
        },
        "id": "JO-v0FZowRDm",
        "outputId": "ba00a206-7d68-4513-f97d-8b50e60948df"
      },
      "outputs": [
        {
          "output_type": "stream",
          "name": "stdout",
          "text": [
            "After Basic Transformations RMSE: 0.1369\n",
            "Improvement: 0.0026\n",
            "Added features: ['volume', 'log_carat', 'depth_table_ratio']\n"
          ]
        }
      ],
      "source": [
        "\n",
        "current_X_train = current_X_train.assign(\n",
        "    volume = current_X_train.x * current_X_train.y * current_X_train.z,\n",
        "    log_carat = np.log(current_X_train.carat),\n",
        "    depth_table_ratio = current_X_train.depth / current_X_train.table\n",
        ")\n",
        "\n",
        "current_X_test = current_X_test.assign(\n",
        "    volume = current_X_test.x * current_X_test.y * current_X_test.z,\n",
        "    log_carat = np.log(current_X_test.carat),\n",
        "    depth_table_ratio = current_X_test.depth / current_X_test.table\n",
        ")\n",
        "\n",
        "new_features = ['volume', 'log_carat', 'depth_table_ratio']\n",
        "current_features += new_features\n",
        "\n",
        "scaler = StandardScaler().fit(current_X_train)\n",
        "X_scaled = scaler.transform(current_X_train)\n",
        "\n",
        "model = LinearRegression()\n",
        "rmse = -cross_val_score(model, X_scaled, y_train,\n",
        "                      cv=5, scoring='neg_root_mean_squared_error').mean()\n",
        "results.append(('Basic Transformations', rmse, new_features))\n",
        "\n",
        "print(f\"After Basic Transformations RMSE: {rmse:.4f}\")\n",
        "print(f\"Improvement: {baseline_rmse - rmse:.4f}\")\n",
        "print(\"Added features:\", new_features)"
      ]
    },
    {
      "cell_type": "code",
      "execution_count": 5,
      "metadata": {
        "colab": {
          "base_uri": "https://localhost:8080/"
        },
        "id": "M00J6PQ9wRDn",
        "outputId": "a704bf94-f0eb-4170-b19b-d532a6d1b780"
      },
      "outputs": [
        {
          "output_type": "stream",
          "name": "stdout",
          "text": [
            "After Binning RMSE: 0.1369\n",
            "Improvement: 0.0027\n",
            "Added features: ['carat_bin', 'depth_bin']\n"
          ]
        }
      ],
      "source": [
        "\n",
        "current_X_train['carat_bin'] = pd.qcut(current_X_train.carat, q=5, labels=False, duplicates='drop')\n",
        "current_X_train['depth_bin'] = pd.qcut(current_X_train.depth, q=5, labels=False, duplicates='drop')\n",
        "\n",
        "current_X_test['carat_bin'] = pd.qcut(current_X_test.carat, q=5, labels=False, duplicates='drop')\n",
        "current_X_test['depth_bin'] = pd.qcut(current_X_test.depth, q=5, labels=False, duplicates='drop')\n",
        "\n",
        "new_features = ['carat_bin', 'depth_bin']\n",
        "current_features += new_features\n",
        "\n",
        "\n",
        "scaler = StandardScaler().fit(current_X_train)\n",
        "X_scaled = scaler.transform(current_X_train)\n",
        "\n",
        "model = LinearRegression()\n",
        "rmse = -cross_val_score(model, X_scaled, y_train,\n",
        "                      cv=5, scoring='neg_root_mean_squared_error').mean()\n",
        "results.append(('Binning', rmse, new_features))\n",
        "\n",
        "print(f\"After Binning RMSE: {rmse:.4f}\")\n",
        "print(f\"Improvement: {baseline_rmse - rmse:.4f}\")\n",
        "print(\"Added features:\", new_features)"
      ]
    },
    {
      "cell_type": "code",
      "execution_count": 6,
      "metadata": {
        "colab": {
          "base_uri": "https://localhost:8080/"
        },
        "id": "ayhAlfypwRDn",
        "outputId": "58c4e785-8a0f-49f4-ee0b-b99e77c94958"
      },
      "outputs": [
        {
          "output_type": "stream",
          "name": "stdout",
          "text": [
            "After Interaction Features RMSE: 0.1302\n",
            "Improvement: 0.0094\n",
            "Added features: ['carat_volume', 'table_depth']\n"
          ]
        }
      ],
      "source": [
        "\n",
        "current_X_train['carat_volume'] = current_X_train.carat * current_X_train.volume\n",
        "current_X_train['table_depth'] = current_X_train.table * current_X_train.depth\n",
        "\n",
        "current_X_test['carat_volume'] = current_X_test.carat * current_X_test.volume\n",
        "current_X_test['table_depth'] = current_X_test.table * current_X_test.depth\n",
        "\n",
        "new_features = ['carat_volume', 'table_depth']\n",
        "current_features += new_features\n",
        "\n",
        "scaler = StandardScaler().fit(current_X_train)\n",
        "X_scaled = scaler.transform(current_X_train)\n",
        "\n",
        "model = LinearRegression()\n",
        "rmse = -cross_val_score(model, X_scaled, y_train,\n",
        "                      cv=5, scoring='neg_root_mean_squared_error').mean()\n",
        "results.append(('Interaction Features', rmse, new_features))\n",
        "\n",
        "print(f\"After Interaction Features RMSE: {rmse:.4f}\")\n",
        "print(f\"Improvement: {baseline_rmse - rmse:.4f}\")\n",
        "print(\"Added features:\", new_features)"
      ]
    },
    {
      "cell_type": "code",
      "execution_count": 7,
      "metadata": {
        "colab": {
          "base_uri": "https://localhost:8080/"
        },
        "id": "o6TbJzhEwRDo",
        "outputId": "ba920581-bace-4cd5-a1d9-8ec7c896c0e6"
      },
      "outputs": [
        {
          "output_type": "stream",
          "name": "stdout",
          "text": [
            "Best Grid Search RMSE: 0.11\n",
            "Best Random Search RMSE: 0.11\n"
          ]
        }
      ],
      "source": [
        "from sklearn.ensemble import RandomForestRegressor\n",
        "from sklearn.model_selection import GridSearchCV, RandomizedSearchCV\n",
        "\n",
        "param_grid = {\n",
        "    'n_estimators': [10, 20]\n",
        "}\n",
        "\n",
        "param_dist = {\n",
        "    'n_estimators': [5,10,20],\n",
        "    'max_depth': [None, 10, 20, 30, 40],\n",
        "    'min_samples_split': [2, 5, 10, 15]\n",
        "}\n",
        "\n",
        "rf = RandomForestRegressor(random_state=42)\n",
        "\n",
        "grid_search = GridSearchCV(rf, param_grid, cv=5, scoring='neg_root_mean_squared_error', n_jobs=-1)\n",
        "grid_search.fit(current_X_train, y_train)\n",
        "print(f\"Best Grid Search RMSE: {-grid_search.best_score_:.2f}\")\n",
        "\n",
        "random_search = RandomizedSearchCV(rf, param_dist, n_iter=3, cv=5,\n",
        "                                   scoring='neg_root_mean_squared_error', random_state=42, n_jobs=-1)\n",
        "random_search.fit(current_X_train, y_train)\n",
        "print(f\"Best Random Search RMSE: {-random_search.best_score_:.2f}\")\n",
        "\n"
      ]
    },
    {
      "cell_type": "code",
      "execution_count": 9,
      "metadata": {
        "colab": {
          "base_uri": "https://localhost:8080/"
        },
        "id": "F-i3WzE1wRDo",
        "outputId": "78407088-d327-4612-e4be-d753eb6cab8e"
      },
      "outputs": [
        {
          "output_type": "stream",
          "name": "stdout",
          "text": [
            "Best Parameters from Grid Search:\n",
            "{'n_estimators': 20}\n",
            "\n",
            "Best Parameters from Random Search:\n",
            "{'n_estimators': 20, 'min_samples_split': 5, 'max_depth': None}\n"
          ]
        }
      ],
      "source": [
        "print(\"Best Parameters from Grid Search:\")\n",
        "print(grid_search.best_params_)\n",
        "\n",
        "print(\"\\nBest Parameters from Random Search:\")\n",
        "print(random_search.best_params_)"
      ]
    },
    {
      "cell_type": "code",
      "source": [],
      "metadata": {
        "id": "pzYk8ufE0kJn"
      },
      "execution_count": null,
      "outputs": []
    }
  ],
  "metadata": {
    "kernelspec": {
      "display_name": "aoml",
      "language": "python",
      "name": "python3"
    },
    "language_info": {
      "codemirror_mode": {
        "name": "ipython",
        "version": 3
      },
      "file_extension": ".py",
      "mimetype": "text/x-python",
      "name": "python",
      "nbconvert_exporter": "python",
      "pygments_lexer": "ipython3",
      "version": "3.9.21"
    },
    "colab": {
      "provenance": []
    }
  },
  "nbformat": 4,
  "nbformat_minor": 0
}